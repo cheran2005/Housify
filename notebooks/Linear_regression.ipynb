{
 "cells": [
  {
   "cell_type": "code",
   "execution_count": 1,
   "id": "1e4cfd26",
   "metadata": {},
   "outputs": [
    {
     "name": "stdout",
     "output_type": "stream",
     "text": [
      "🔹 Linear Regression (Pipeline) Results\n",
      "MAE:  $514,778\n",
      "RMSE: $1,138,778\n",
      "R²:   0.360\n"
     ]
    },
    {
     "data": {
      "text/plain": [
       "['../backend/models/linear_regression_model.pkl']"
      ]
     },
     "execution_count": 1,
     "metadata": {},
     "output_type": "execute_result"
    }
   ],
   "source": [
    "import pandas as pd \n",
    "import numpy as np \n",
    "\n",
    "from sklearn.model_selection import train_test_split \n",
    "from sklearn.linear_model import LinearRegression\n",
    "from sklearn.metrics import mean_absolute_error, mean_squared_error, r2_score \n",
    "from sklearn.pipeline import Pipeline \n",
    "from sklearn.impute import SimpleImputer \n",
    "from sklearn.preprocessing import OneHotEncoder                                               \n",
    "from sklearn.compose import ColumnTransformer \n",
    "\n",
    "import joblib\n",
    "\n",
    "#Loading Data\n",
    "#--------------------------------------------------------------------------------------------------------------------------------------------------------------------------------------------------------------------------\n",
    "\n",
    "df = pd.read_csv(\"../data/housify-data.csv\")\n",
    "\n",
    "target = \"price\"\n",
    "\n",
    "num_features = [c for c in [\"latitude\", \"longitude\", \"bedrooms\", \"bathrooms\", \"sqft\"] if c in df.columns]\n",
    "cat_features = [c for c in [\"city\"] if c in df.columns]\n",
    "\n",
    "\n",
    "# --- Basic dtype cleanup -----------------------------------------------------\n",
    "# Coerce numerics; invalids become NaN (float dtype allows NaN)\n",
    "for c in num_features: \n",
    "    df[c] = pd.to_numeric(df[c], errors=\"coerce\")\n",
    "\n",
    "\n",
    "for c in cat_features:\n",
    "    df[c] = df[c].astype(\"object\")\n",
    "\n",
    "\n",
    "# --- Target, mask out rows without a valid target ----------------------------\n",
    "y = pd.to_numeric(df[target], errors=\"coerce\")\n",
    "\n",
    "mask = y.notna() & (y>= 0)\n",
    "\n",
    "y = y.loc[mask]\n",
    "\n",
    "X = df.loc[mask,num_features + cat_features]\n",
    "\n",
    "\n",
    "# --- Preprocess: impute + encode --------------------------------------------\n",
    "numeric_transformer = Pipeline(steps=[ \n",
    "    (\"imputer\", SimpleImputer(strategy=\"median\"))\n",
    "])\n",
    "\n",
    "categorical_transformer = Pipeline(steps=[\n",
    "    (\"imputer\", SimpleImputer(strategy=\"constant\",fill_value =\"Unknown\")),\n",
    "    (\"encoder\", OneHotEncoder(handle_unknown=\"ignore\"))\n",
    "])\n",
    "\n",
    "preprocess = ColumnTransformer( \n",
    "    transformers=[\n",
    "        (\"num\", numeric_transformer, num_features),\n",
    "        (\"cat\", categorical_transformer, cat_features)\n",
    "    ],\n",
    "    remainder=\"drop\"\n",
    ")\n",
    "\n",
    "# --- Model pipeline ----------------------------------------------------------\n",
    "pipe = Pipeline(steps=[\n",
    "    (\"preprocess\", preprocess),\n",
    "    (\"regressor\", LinearRegression())\n",
    "])\n",
    "\n",
    "# --- Train/test split --------------------------------------------------------\n",
    "# Note: for regression there is no stratify; use random_state for reproducibility.\n",
    "X_train, X_test, y_train, y_test = train_test_split(\n",
    "    X, y, test_size=0.2, random_state=42\n",
    ")\n",
    "\n",
    "known_cities = X_train[\"city\"].unique().tolist()\n",
    "\n",
    "X_test[\"city\"] = X_test[\"city\"].where(X_test[\"city\"].isin(known_cities), \"Unknown\")\n",
    "\n",
    "# --- Fit & evaluate ----------------------------------------------------------\n",
    "pipe.fit(X_train, y_train)\n",
    "\n",
    "#evaluating the model\n",
    "y_pred = pipe.predict(X_test)\n",
    "\n",
    "y_pred = np.clip(y_pred, 0, None)\n",
    "\n",
    "mae  = mean_absolute_error(y_test, y_pred)\n",
    "\n",
    "mse  = mean_squared_error(y_test, y_pred)\n",
    "\n",
    "rmse = np.sqrt(mse)\n",
    "\n",
    "r2   = r2_score(y_test, y_pred) \n",
    "\n",
    "print(\"🔹 Linear Regression (Pipeline) Results\")\n",
    "print(f\"MAE:  ${mae:,.0f}\")\n",
    "print(f\"RMSE: ${rmse:,.0f}\")\n",
    "print(f\"R²:   {r2:.3f}\")\n",
    "\n",
    "# --- Persist model -----------------------------------------------------------\n",
    "joblib.dump(pipe, \"../backend/models/linear_regression_model.pkl\")\n"
   ]
  },
  {
   "cell_type": "code",
   "execution_count": 1,
   "id": "e528fc76",
   "metadata": {},
   "outputs": [
    {
     "name": "stdout",
     "output_type": "stream",
     "text": [
      "c:\\Users\\chera\\Documents\\WEB DEV + ML\\Housonify\\venv\\Scripts\\python.exe\n"
     ]
    }
   ],
   "source": [
    "import sys\n",
    "print(sys.executable)"
   ]
  },
  {
   "cell_type": "code",
   "execution_count": null,
   "id": "36d7f60c",
   "metadata": {},
   "outputs": [],
   "source": []
  }
 ],
 "metadata": {
  "kernelspec": {
   "display_name": "Python 3",
   "language": "python",
   "name": "python3"
  },
  "language_info": {
   "codemirror_mode": {
    "name": "ipython",
    "version": 3
   },
   "file_extension": ".py",
   "mimetype": "text/x-python",
   "name": "python",
   "nbconvert_exporter": "python",
   "pygments_lexer": "ipython3",
   "version": "3.12.4"
  }
 },
 "nbformat": 4,
 "nbformat_minor": 5
}
